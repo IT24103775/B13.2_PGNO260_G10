{
 "cells": [
  {
   "cell_type": "code",
   "execution_count": 10,
   "id": "54fd0e52-8e59-4f35-8121-4fcd77e1ebc2",
   "metadata": {},
   "outputs": [],
   "source": [
    "from nltk.tokenize import word_tokenize, sent_tokenize\n",
    "from nltk.corpus import stopwords\n"
   ]
  },
  {
   "cell_type": "code",
   "execution_count": 14,
   "id": "5b89f3e3-2c9a-406a-a3b9-6ddd18899e47",
   "metadata": {},
   "outputs": [
    {
     "name": "stdout",
     "output_type": "stream",
     "text": [
      "\n",
      "Before Preprocessing:\n",
      " WASHINGTON (Reuters) - The head of a conservative Republican faction in the U.S. Congress, who voted this month for a huge expansion of the national debt to pay for tax cuts, called himself a “fiscal conservative” on Sunday and urged budget restraint in 2018. In keeping with a sharp pivot under way  ...\n",
      "\n",
      "After Preprocessing:\n",
      " washington reuters head conservative republican faction us congress voted month huge expansion national debt pay tax cuts called fiscal conservative sunday urged budget restraint keeping sharp pivot way among republicans us representative mark meadows speaking cbs face nation drew hard line federal  ...\n"
     ]
    }
   ],
   "source": [
    "# Member 3: Text Preprocessing\n",
    "\n",
    "import re\n",
    "import nltk\n",
    "import pandas as pd\n",
    "from nltk.corpus import stopwords\n",
    "from nltk.tokenize import word_tokenize\n",
    "\n",
    "# Download required resources safely\n",
    "nltk.download(\"punkt\", quiet=True)\n",
    "nltk.download(\"punkt_tab\", quiet=True)   # Fixes LookupError\n",
    "nltk.download(\"stopwords\", quiet=True)\n",
    "\n",
    "# Load stopwords once\n",
    "stop_words = set(stopwords.words(\"english\"))\n",
    "\n",
    "def preprocess_text(text: str) -> str:\n",
    "    \"\"\"Clean and preprocess text.\"\"\"\n",
    "    # Lowercase\n",
    "    text = text.lower()\n",
    "    # Remove URLs\n",
    "    text = re.sub(r\"http\\S+|www\\S+\", \"\", text)\n",
    "    # Remove HTML tags\n",
    "    text = re.sub(r\"<.*?>\", \"\", text)\n",
    "    # Remove punctuation and numbers\n",
    "    text = re.sub(r\"[^a-z\\s]\", \"\", text)\n",
    "    # Tokenize\n",
    "    words = word_tokenize(text)\n",
    "    # Remove stopwords\n",
    "    words = [word for word in words if word not in stop_words]\n",
    "    return \" \".join(words)\n",
    "\n",
    "# Example dataset (replace with your actual DataFrame)\n",
    "# Example only if 'data' is undefined\n",
    "# data = pd.DataFrame({\"text\": [\"This is an <b>example</b>! Visit http://example.com for more info.\"]})\n",
    "\n",
    "# Example before and after\n",
    "example = data[\"text\"].iloc[0]\n",
    "print(\"\\nBefore Preprocessing:\\n\", example[:300], \"...\")\n",
    "print(\"\\nAfter Preprocessing:\\n\", preprocess_text(example)[:300], \"...\")\n",
    "\n",
    "# Apply to dataset (handles if dataset has <2000 rows)\n",
    "sample_size = min(2000, len(data))\n",
    "data[\"clean_text\"] = data[\"text\"].sample(sample_size, random_state=42).apply(preprocess_text)\n"
   ]
  },
  {
   "cell_type": "code",
   "execution_count": null,
   "id": "3bbf2440-76fa-4238-9e33-e81677639eb6",
   "metadata": {},
   "outputs": [],
   "source": []
  },
  {
   "cell_type": "code",
   "execution_count": null,
   "id": "40cb0408-45d2-427b-84c8-90d50591c935",
   "metadata": {},
   "outputs": [],
   "source": []
  }
 ],
 "metadata": {
  "kernelspec": {
   "display_name": "Python 3 (ipykernel)",
   "language": "python",
   "name": "python3"
  },
  "language_info": {
   "codemirror_mode": {
    "name": "ipython",
    "version": 3
   },
   "file_extension": ".py",
   "mimetype": "text/x-python",
   "name": "python",
   "nbconvert_exporter": "python",
   "pygments_lexer": "ipython3",
   "version": "3.13.2"
  }
 },
 "nbformat": 4,
 "nbformat_minor": 5
}
