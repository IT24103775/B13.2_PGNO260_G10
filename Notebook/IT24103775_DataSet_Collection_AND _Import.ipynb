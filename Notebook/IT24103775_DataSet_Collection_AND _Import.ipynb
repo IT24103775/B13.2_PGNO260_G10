{
 "cells": [
  {
   "cell_type": "code",
   "execution_count": 1,
   "id": "54fd0e52-8e59-4f35-8121-4fcd77e1ebc2",
   "metadata": {},
   "outputs": [
    {
     "name": "stdout",
     "output_type": "stream",
     "text": [
      "True News Shape: (21417, 4)\n",
      "Fake News Shape: (23502, 172)\n",
      "\n",
      "True News Columns: Index(['title', 'text', 'subject', 'date'], dtype='object')\n",
      "Fake News Columns: Index(['title', 'text', 'subject', 'date', 'Unnamed: 4', 'Unnamed: 5',\n",
      "       'Unnamed: 6', 'Unnamed: 7', 'Unnamed: 8', 'Unnamed: 9',\n",
      "       ...\n",
      "       'Unnamed: 162', 'Unnamed: 163', 'Unnamed: 164', 'Unnamed: 165',\n",
      "       'Unnamed: 166', 'Unnamed: 167', 'Unnamed: 168', 'Unnamed: 169',\n",
      "       'Unnamed: 170', 'Unnamed: 171'],\n",
      "      dtype='object', length=172)\n",
      "\n",
      "Combined Dataset Shape: (44919, 3)\n",
      "\n",
      "First 5 rows:\n",
      "                                                title  \\\n",
      "0  As U.S. budget fight looms, Republicans flip t...   \n",
      "1  U.S. military to accept transgender recruits o...   \n",
      "2  Senior U.S. Republican senator: 'Let Mr. Muell...   \n",
      "3  FBI Russia probe helped by Australian diplomat...   \n",
      "4  Trump wants Postal Service to charge 'much mor...   \n",
      "\n",
      "                                                text label  \n",
      "0  WASHINGTON (Reuters) - The head of a conservat...  REAL  \n",
      "1  WASHINGTON (Reuters) - Transgender people will...  REAL  \n",
      "2  WASHINGTON (Reuters) - The special counsel inv...  REAL  \n",
      "3  WASHINGTON (Reuters) - Trump campaign adviser ...  REAL  \n",
      "4  SEATTLE/WASHINGTON (Reuters) - President Donal...  REAL  \n"
     ]
    },
    {
     "name": "stderr",
     "output_type": "stream",
     "text": [
      "C:\\Users\\sriya\\AppData\\Local\\Temp\\ipykernel_18064\\874107381.py:7: DtypeWarning: Columns (4,5,6,7,8,9,10,11,12,13,14,15,16,17,18,19,20,21,22,23,24,25,26,27,28,29,30,31,32,33,34,35,36,37,38,39,40,41,42,43,44,45,46,47,48,49,50,51,52,53,54,55,56,57,58,59,60,61,62,63,64,65,66,67,68,69,70,71,72,73,74,75,76,77,78,79,80,81,82,83,84,85,86,87,88,89,90,91,92,93,94,95,96,97,98,99,100,101,102,103,104,105,106,107,108,109,110,111,112,113,114,115,116,117,118,119,120,121,122,123,124,125,126,127,128,129,130,131,132,133,134,135,136,137,138,139,140,141,142,143,144,145,146,147,148,149,150,151,152,153,154,155,156,157,158,159,160,161,162,163,164,165,166,167,168,169,170,171) have mixed types. Specify dtype option on import or set low_memory=False.\n",
      "  fake_df = pd.read_csv(\"Fake.csv\")\n"
     ]
    }
   ],
   "source": [
    "# Member 1: Dataset Collection & Import\n",
    "\n",
    "import pandas as pd\n",
    "\n",
    "# Load datasets\n",
    "true_df = pd.read_csv(\"True.csv\")\n",
    "fake_df = pd.read_csv(\"Fake.csv\")\n",
    "\n",
    "print(\"True News Shape:\", true_df.shape)\n",
    "print(\"Fake News Shape:\", fake_df.shape)\n",
    "\n",
    "print(\"\\nTrue News Columns:\", true_df.columns)\n",
    "print(\"Fake News Columns:\", fake_df.columns)\n",
    "\n",
    "# Add labels\n",
    "true_df['label'] = \"REAL\"\n",
    "fake_df['label'] = \"FAKE\"\n",
    "\n",
    "# Combine into one dataset\n",
    "data = pd.concat([true_df[['title', 'text', 'label']], fake_df[['title', 'text', 'label']]], ignore_index=True)\n",
    "\n",
    "print(\"\\nCombined Dataset Shape:\", data.shape)\n",
    "print(\"\\nFirst 5 rows:\\n\", data.head())"
   ]
  },
  {
   "cell_type": "code",
   "execution_count": null,
   "id": "a14696ce-1927-4c04-b5a1-cf4378983470",
   "metadata": {},
   "outputs": [],
   "source": []
  }
 ],
 "metadata": {
  "kernelspec": {
   "display_name": "Python 3 (ipykernel)",
   "language": "python",
   "name": "python3"
  },
  "language_info": {
   "codemirror_mode": {
    "name": "ipython",
    "version": 3
   },
   "file_extension": ".py",
   "mimetype": "text/x-python",
   "name": "python",
   "nbconvert_exporter": "python",
   "pygments_lexer": "ipython3",
   "version": "3.13.2"
  }
 },
 "nbformat": 4,
 "nbformat_minor": 5
}
