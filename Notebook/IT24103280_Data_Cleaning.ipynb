{
 "cells": [
  {
   "cell_type": "code",
   "execution_count": 2,
   "id": "54fd0e52-8e59-4f35-8121-4fcd77e1ebc2",
   "metadata": {},
   "outputs": [
    {
     "name": "stdout",
     "output_type": "stream",
     "text": [
      "Removed 5803 duplicate rows\n",
      "\n",
      "Missing values per column:\n",
      " title    0\n",
      "text     0\n",
      "label    0\n",
      "dtype: int64\n",
      "\n",
      "Class distribution:\n",
      " label\n",
      "REAL    21197\n",
      "FAKE    17919\n",
      "Name: count, dtype: int64\n"
     ]
    }
   ],
   "source": [
    "# Member 2: Data Cleaning\n",
    "\n",
    "# Remove duplicates\n",
    "before = data.shape[0]\n",
    "data.drop_duplicates(inplace=True)\n",
    "after = data.shape[0]\n",
    "\n",
    "print(f\"Removed {before - after} duplicate rows\")\n",
    "\n",
    "# Check missing values\n",
    "print(\"\\nMissing values per column:\\n\", data.isnull().sum())\n",
    "\n",
    "# Dataset statistics\n",
    "print(\"\\nClass distribution:\\n\", data['label'].value_counts())"
   ]
  },
  {
   "cell_type": "code",
   "execution_count": null,
   "id": "5b89f3e3-2c9a-406a-a3b9-6ddd18899e47",
   "metadata": {},
   "outputs": [],
   "source": []
  }
 ],
 "metadata": {
  "kernelspec": {
   "display_name": "Python 3 (ipykernel)",
   "language": "python",
   "name": "python3"
  },
  "language_info": {
   "codemirror_mode": {
    "name": "ipython",
    "version": 3
   },
   "file_extension": ".py",
   "mimetype": "text/x-python",
   "name": "python",
   "nbconvert_exporter": "python",
   "pygments_lexer": "ipython3",
   "version": "3.13.2"
  }
 },
 "nbformat": 4,
 "nbformat_minor": 5
}
